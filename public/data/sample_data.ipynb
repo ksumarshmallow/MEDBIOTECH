{
 "cells": [
  {
   "cell_type": "code",
   "execution_count": 1,
   "metadata": {},
   "outputs": [],
   "source": [
    "import random\n",
    "import numpy as np\n",
    "import pandas as pd "
   ]
  },
  {
   "cell_type": "code",
   "execution_count": 7,
   "metadata": {},
   "outputs": [],
   "source": [
    "drugs = [\n",
    "        'Авиандр',\n",
    "        'Алимемазин и синонимы',\n",
    "        'Андипал',\n",
    "        'Афобазол',\n",
    "        'Баета',\n",
    "        'Инозин Пранобекс',\n",
    "        'Нейромексол',\n",
    "        'Радия-223 хлорид',\n",
    "        'Эсциталопрам'\n",
    "    ]\n",
    "\n",
    "resources = ['ВК', 'YouTube', 'Отзовик']\n",
    "\n",
    "categories = ['Аллергические реакции', 'Заболевания нервной системы', 'Заболевания нервной системы', 'Прочее']\n",
    "\n",
    "symptoms = ['Сыпь', 'Головная боль', 'Тошнота', 'Головокружение', 'Отеки', 'Бессонница', \n",
    "            'Диарея', 'Повышенная температура', 'Слабость', 'Сонливость', \n",
    "            'Раздражительность', 'Учащенное сердцебиение']"
   ]
  },
  {
   "cell_type": "code",
   "execution_count": 13,
   "metadata": {},
   "outputs": [
    {
     "data": {
      "text/html": [
       "<div>\n",
       "<style scoped>\n",
       "    .dataframe tbody tr th:only-of-type {\n",
       "        vertical-align: middle;\n",
       "    }\n",
       "\n",
       "    .dataframe tbody tr th {\n",
       "        vertical-align: top;\n",
       "    }\n",
       "\n",
       "    .dataframe thead th {\n",
       "        text-align: right;\n",
       "    }\n",
       "</style>\n",
       "<table border=\"1\" class=\"dataframe\">\n",
       "  <thead>\n",
       "    <tr style=\"text-align: right;\">\n",
       "      <th></th>\n",
       "      <th>Лекарство</th>\n",
       "      <th>Источник</th>\n",
       "      <th>НР</th>\n",
       "      <th>Симптомы</th>\n",
       "      <th>Год</th>\n",
       "    </tr>\n",
       "  </thead>\n",
       "  <tbody>\n",
       "    <tr>\n",
       "      <th>0</th>\n",
       "      <td>Алимемазин и синонимы</td>\n",
       "      <td>ВК</td>\n",
       "      <td>Заболевания нервной системы</td>\n",
       "      <td>Раздражительность; Повышенная температура</td>\n",
       "      <td>2018</td>\n",
       "    </tr>\n",
       "    <tr>\n",
       "      <th>1</th>\n",
       "      <td>Радия-223 хлорид</td>\n",
       "      <td>ВК</td>\n",
       "      <td>Прочее</td>\n",
       "      <td>Раздражительность</td>\n",
       "      <td>2015</td>\n",
       "    </tr>\n",
       "    <tr>\n",
       "      <th>2</th>\n",
       "      <td>Баета</td>\n",
       "      <td>ВК</td>\n",
       "      <td>Прочее; Заболевания нервной системы</td>\n",
       "      <td>Головокружение; Отеки; Повышенная температура</td>\n",
       "      <td>2005</td>\n",
       "    </tr>\n",
       "    <tr>\n",
       "      <th>3</th>\n",
       "      <td>Андипал</td>\n",
       "      <td>YouTube</td>\n",
       "      <td>Заболевания нервной системы; Заболевания нервн...</td>\n",
       "      <td>Тошнота; Отеки</td>\n",
       "      <td>2002</td>\n",
       "    </tr>\n",
       "    <tr>\n",
       "      <th>4</th>\n",
       "      <td>Баета</td>\n",
       "      <td>YouTube</td>\n",
       "      <td>Прочее</td>\n",
       "      <td>Слабость</td>\n",
       "      <td>2008</td>\n",
       "    </tr>\n",
       "  </tbody>\n",
       "</table>\n",
       "</div>"
      ],
      "text/plain": [
       "               Лекарство Источник  \\\n",
       "0  Алимемазин и синонимы       ВК   \n",
       "1       Радия-223 хлорид       ВК   \n",
       "2                  Баета       ВК   \n",
       "3                Андипал  YouTube   \n",
       "4                  Баета  YouTube   \n",
       "\n",
       "                                                  НР  \\\n",
       "0                        Заболевания нервной системы   \n",
       "1                                             Прочее   \n",
       "2                Прочее; Заболевания нервной системы   \n",
       "3  Заболевания нервной системы; Заболевания нервн...   \n",
       "4                                             Прочее   \n",
       "\n",
       "                                        Симптомы   Год  \n",
       "0      Раздражительность; Повышенная температура  2018  \n",
       "1                              Раздражительность  2015  \n",
       "2  Головокружение; Отеки; Повышенная температура  2005  \n",
       "3                                 Тошнота; Отеки  2002  \n",
       "4                                       Слабость  2008  "
      ]
     },
     "execution_count": 13,
     "metadata": {},
     "output_type": "execute_result"
    }
   ],
   "source": [
    "# N = 10_000\n",
    "N = 100\n",
    "max_symptoms = 4\n",
    "max_cat_symptoms = 2\n",
    "\n",
    "data = {\n",
    "    'Лекарство': [random.choice(drugs) for _ in range(N)],\n",
    "    'Источник': [random.choice(resources) for _ in range(N)],\n",
    "    'НР': ['; '.join(random.sample(categories, random.randint(1, max_cat_symptoms))) for _ in range(N)],\n",
    "    'Симптомы': ['; '.join(random.sample(symptoms, random.randint(1, max_symptoms))) for _ in range(N)],\n",
    "    'Год': [np.random.randint(2000, 2025) for _ in range(N)],\n",
    "}\n",
    "\n",
    "df = pd.DataFrame(data)\n",
    "\n",
    "df.head()"
   ]
  },
  {
   "cell_type": "code",
   "execution_count": 14,
   "metadata": {},
   "outputs": [],
   "source": [
    "df.to_csv('data/results.csv', index=False, encoding='utf-8')"
   ]
  },
  {
   "cell_type": "code",
   "execution_count": null,
   "metadata": {},
   "outputs": [],
   "source": []
  }
 ],
 "metadata": {
  "kernelspec": {
   "display_name": "pop_gen",
   "language": "python",
   "name": "pop_gen"
  },
  "language_info": {
   "codemirror_mode": {
    "name": "ipython",
    "version": 3
   },
   "file_extension": ".py",
   "mimetype": "text/x-python",
   "name": "python",
   "nbconvert_exporter": "python",
   "pygments_lexer": "ipython3",
   "version": "3.13.1"
  }
 },
 "nbformat": 4,
 "nbformat_minor": 2
}
