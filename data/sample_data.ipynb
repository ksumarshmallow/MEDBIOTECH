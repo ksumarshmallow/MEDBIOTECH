{
 "cells": [
  {
   "cell_type": "code",
   "execution_count": 1,
   "metadata": {},
   "outputs": [],
   "source": [
    "import random\n",
    "import numpy as np\n",
    "import pandas as pd "
   ]
  },
  {
   "cell_type": "code",
   "execution_count": 7,
   "metadata": {},
   "outputs": [],
   "source": [
    "drugs = [\n",
    "        'Авиандр',\n",
    "        'Алимемазин и синонимы',\n",
    "        'Андипал',\n",
    "        'Афобазол',\n",
    "        'Баета',\n",
    "        'Инозин Пранобекс',\n",
    "        'Нейромексол',\n",
    "        'Радия-223 хлорид',\n",
    "        'Эсциталопрам'\n",
    "    ]\n",
    "\n",
    "resources = ['ВК', 'YouTube', 'Отзовик']\n",
    "\n",
    "categories = ['Аллергические реакции', 'Заболевания нервной системы', 'Заболевания нервной системы', 'Прочее']\n",
    "\n",
    "symptoms = ['Сыпь', 'Головная боль', 'Тошнота', 'Головокружение', 'Отеки', 'Бессонница', \n",
    "            'Диарея', 'Повышенная температура', 'Слабость', 'Сонливость', \n",
    "            'Раздражительность', 'Учащенное сердцебиение']"
   ]
  },
  {
   "cell_type": "code",
   "execution_count": 9,
   "metadata": {},
   "outputs": [
    {
     "data": {
      "text/html": [
       "<div>\n",
       "<style scoped>\n",
       "    .dataframe tbody tr th:only-of-type {\n",
       "        vertical-align: middle;\n",
       "    }\n",
       "\n",
       "    .dataframe tbody tr th {\n",
       "        vertical-align: top;\n",
       "    }\n",
       "\n",
       "    .dataframe thead th {\n",
       "        text-align: right;\n",
       "    }\n",
       "</style>\n",
       "<table border=\"1\" class=\"dataframe\">\n",
       "  <thead>\n",
       "    <tr style=\"text-align: right;\">\n",
       "      <th></th>\n",
       "      <th>Drug</th>\n",
       "      <th>Resource</th>\n",
       "      <th>Category</th>\n",
       "      <th>Symptoms</th>\n",
       "      <th>Year</th>\n",
       "    </tr>\n",
       "  </thead>\n",
       "  <tbody>\n",
       "    <tr>\n",
       "      <th>0</th>\n",
       "      <td>Нейромексол</td>\n",
       "      <td>ВК</td>\n",
       "      <td>Заболевания нервной системы; Прочее</td>\n",
       "      <td>Бессонница; Учащенное сердцебиение; Отеки</td>\n",
       "      <td>2019</td>\n",
       "    </tr>\n",
       "    <tr>\n",
       "      <th>1</th>\n",
       "      <td>Инозин Пранобекс</td>\n",
       "      <td>Отзовик</td>\n",
       "      <td>Аллергические реакции</td>\n",
       "      <td>Отеки</td>\n",
       "      <td>2009</td>\n",
       "    </tr>\n",
       "    <tr>\n",
       "      <th>2</th>\n",
       "      <td>Андипал</td>\n",
       "      <td>Отзовик</td>\n",
       "      <td>Заболевания нервной системы; Прочее</td>\n",
       "      <td>Головокружение; Повышенная температура</td>\n",
       "      <td>2017</td>\n",
       "    </tr>\n",
       "    <tr>\n",
       "      <th>3</th>\n",
       "      <td>Инозин Пранобекс</td>\n",
       "      <td>ВК</td>\n",
       "      <td>Заболевания нервной системы</td>\n",
       "      <td>Повышенная температура</td>\n",
       "      <td>2008</td>\n",
       "    </tr>\n",
       "    <tr>\n",
       "      <th>4</th>\n",
       "      <td>Баета</td>\n",
       "      <td>YouTube</td>\n",
       "      <td>Заболевания нервной системы</td>\n",
       "      <td>Повышенная температура</td>\n",
       "      <td>2015</td>\n",
       "    </tr>\n",
       "  </tbody>\n",
       "</table>\n",
       "</div>"
      ],
      "text/plain": [
       "               Drug Resource                             Category  \\\n",
       "0       Нейромексол       ВК  Заболевания нервной системы; Прочее   \n",
       "1  Инозин Пранобекс  Отзовик                Аллергические реакции   \n",
       "2           Андипал  Отзовик  Заболевания нервной системы; Прочее   \n",
       "3  Инозин Пранобекс       ВК          Заболевания нервной системы   \n",
       "4             Баета  YouTube          Заболевания нервной системы   \n",
       "\n",
       "                                    Symptoms  Year  \n",
       "0  Бессонница; Учащенное сердцебиение; Отеки  2019  \n",
       "1                                      Отеки  2009  \n",
       "2     Головокружение; Повышенная температура  2017  \n",
       "3                     Повышенная температура  2008  \n",
       "4                     Повышенная температура  2015  "
      ]
     },
     "execution_count": 9,
     "metadata": {},
     "output_type": "execute_result"
    }
   ],
   "source": [
    "N = 10_000\n",
    "max_symptoms = 4\n",
    "max_cat_symptoms = 2\n",
    "\n",
    "data = {\n",
    "    'Drug': [random.choice(drugs) for _ in range(N)],\n",
    "    'Resource': [random.choice(resources) for _ in range(N)],\n",
    "    'Category': ['; '.join(random.sample(categories, random.randint(1, max_cat_symptoms))) for _ in range(N)],\n",
    "    'Symptoms': ['; '.join(random.sample(symptoms, random.randint(1, max_symptoms))) for _ in range(N)],\n",
    "    'Year': [np.random.randint(2000, 2025) for _ in range(N)],\n",
    "}\n",
    "\n",
    "df = pd.DataFrame(data)\n",
    "\n",
    "df.head()"
   ]
  },
  {
   "cell_type": "code",
   "execution_count": 10,
   "metadata": {},
   "outputs": [],
   "source": [
    "df.to_csv('data/results.csv', index=False, encoding='utf-8')"
   ]
  },
  {
   "cell_type": "code",
   "execution_count": null,
   "metadata": {},
   "outputs": [],
   "source": []
  }
 ],
 "metadata": {
  "kernelspec": {
   "display_name": "pop_gen",
   "language": "python",
   "name": "pop_gen"
  },
  "language_info": {
   "codemirror_mode": {
    "name": "ipython",
    "version": 3
   },
   "file_extension": ".py",
   "mimetype": "text/x-python",
   "name": "python",
   "nbconvert_exporter": "python",
   "pygments_lexer": "ipython3",
   "version": "3.13.1"
  }
 },
 "nbformat": 4,
 "nbformat_minor": 2
}
