{
 "cells": [
  {
   "cell_type": "code",
   "execution_count": 8,
   "metadata": {},
   "outputs": [],
   "source": [
    "import json\n",
    "import random\n",
    "import numpy as np\n",
    "import pandas as pd \n",
    "from pathlib import Path"
   ]
  },
  {
   "cell_type": "code",
   "execution_count": 5,
   "metadata": {},
   "outputs": [],
   "source": [
    "DATA_PATH = Path('public/data/')"
   ]
  },
  {
   "cell_type": "code",
   "execution_count": 6,
   "metadata": {},
   "outputs": [],
   "source": [
    "drugs = [\n",
    "        'Авиандр',\n",
    "        'Алимемазин и синонимы',\n",
    "        'Андипал',\n",
    "        'Афобазол',\n",
    "        'Баета',\n",
    "        'Инозин Пранобекс',\n",
    "        'Нейромексол',\n",
    "        'Радия-223 хлорид',\n",
    "        'Эсциталопрам'\n",
    "    ]\n",
    "\n",
    "resources = ['ВК', 'YouTube', 'Отзовик']\n",
    "\n",
    "categories = ['Аллергические реакции', 'Заболевания нервной системы', 'Заболевания сердца', 'Заболевания почек', 'Прочее']\n",
    "\n",
    "symptoms = ['Сыпь', 'Головная боль', 'Тошнота', 'Головокружение', 'Отеки', 'Бессонница', \n",
    "            'Диарея', 'Повышенная температура', 'Слабость', 'Сонливость', \n",
    "            'Раздражительность', 'Учащенное сердцебиение']"
   ]
  },
  {
   "cell_type": "code",
   "execution_count": 15,
   "metadata": {},
   "outputs": [],
   "source": [
    "dataset_description = {\n",
    "    \"drugs\": drugs,\n",
    "    \"resources\": resources,\n",
    "    \"categories\": categories,\n",
    "    \"symptoms\": symptoms\n",
    "}\n",
    "\n",
    "with open(DATA_PATH / 'dataset_description.json', 'w', encoding='utf-8') as file:\n",
    "    json.dump(dataset_description, file, ensure_ascii=False, indent=4)"
   ]
  },
  {
   "cell_type": "code",
   "execution_count": 8,
   "metadata": {},
   "outputs": [
    {
     "data": {
      "text/html": [
       "<div>\n",
       "<style scoped>\n",
       "    .dataframe tbody tr th:only-of-type {\n",
       "        vertical-align: middle;\n",
       "    }\n",
       "\n",
       "    .dataframe tbody tr th {\n",
       "        vertical-align: top;\n",
       "    }\n",
       "\n",
       "    .dataframe thead th {\n",
       "        text-align: right;\n",
       "    }\n",
       "</style>\n",
       "<table border=\"1\" class=\"dataframe\">\n",
       "  <thead>\n",
       "    <tr style=\"text-align: right;\">\n",
       "      <th></th>\n",
       "      <th>Лекарство</th>\n",
       "      <th>Источник</th>\n",
       "      <th>НР</th>\n",
       "      <th>Симптомы</th>\n",
       "      <th>Год</th>\n",
       "    </tr>\n",
       "  </thead>\n",
       "  <tbody>\n",
       "    <tr>\n",
       "      <th>0</th>\n",
       "      <td>Алимемазин и синонимы</td>\n",
       "      <td>YouTube</td>\n",
       "      <td>Заболевания сердца</td>\n",
       "      <td>Бессонница</td>\n",
       "      <td>2022</td>\n",
       "    </tr>\n",
       "    <tr>\n",
       "      <th>1</th>\n",
       "      <td>Афобазол</td>\n",
       "      <td>ВК</td>\n",
       "      <td>Заболевания сердца</td>\n",
       "      <td>Головная боль; Головокружение</td>\n",
       "      <td>2008</td>\n",
       "    </tr>\n",
       "    <tr>\n",
       "      <th>2</th>\n",
       "      <td>Нейромексол</td>\n",
       "      <td>ВК</td>\n",
       "      <td>Заболевания нервной системы; Заболевания почек</td>\n",
       "      <td>Учащенное сердцебиение</td>\n",
       "      <td>2004</td>\n",
       "    </tr>\n",
       "    <tr>\n",
       "      <th>3</th>\n",
       "      <td>Андипал</td>\n",
       "      <td>ВК</td>\n",
       "      <td>Заболевания нервной системы; Заболевания почек</td>\n",
       "      <td>Бессонница; Диарея; Сыпь; Головокружение</td>\n",
       "      <td>2019</td>\n",
       "    </tr>\n",
       "    <tr>\n",
       "      <th>4</th>\n",
       "      <td>Баета</td>\n",
       "      <td>ВК</td>\n",
       "      <td>Заболевания сердца; Прочее</td>\n",
       "      <td>Головная боль; Отеки; Сыпь</td>\n",
       "      <td>2019</td>\n",
       "    </tr>\n",
       "  </tbody>\n",
       "</table>\n",
       "</div>"
      ],
      "text/plain": [
       "               Лекарство Источник  \\\n",
       "0  Алимемазин и синонимы  YouTube   \n",
       "1               Афобазол       ВК   \n",
       "2            Нейромексол       ВК   \n",
       "3                Андипал       ВК   \n",
       "4                  Баета       ВК   \n",
       "\n",
       "                                               НР  \\\n",
       "0                              Заболевания сердца   \n",
       "1                              Заболевания сердца   \n",
       "2  Заболевания нервной системы; Заболевания почек   \n",
       "3  Заболевания нервной системы; Заболевания почек   \n",
       "4                      Заболевания сердца; Прочее   \n",
       "\n",
       "                                   Симптомы   Год  \n",
       "0                                Бессонница  2022  \n",
       "1             Головная боль; Головокружение  2008  \n",
       "2                    Учащенное сердцебиение  2004  \n",
       "3  Бессонница; Диарея; Сыпь; Головокружение  2019  \n",
       "4                Головная боль; Отеки; Сыпь  2019  "
      ]
     },
     "execution_count": 8,
     "metadata": {},
     "output_type": "execute_result"
    }
   ],
   "source": [
    "# N = 10_000\n",
    "N = 100\n",
    "max_symptoms = 4\n",
    "max_cat_symptoms = 2\n",
    "\n",
    "data = {\n",
    "    'Лекарство': [random.choice(drugs) for _ in range(N)],\n",
    "    'Источник': [random.choice(resources) for _ in range(N)],\n",
    "    'НР': ['; '.join(random.sample(categories, random.randint(1, max_cat_symptoms))) for _ in range(N)],\n",
    "    'Симптомы': ['; '.join(random.sample(symptoms, random.randint(1, max_symptoms))) for _ in range(N)],\n",
    "    'Год': [np.random.randint(2000, 2025) for _ in range(N)],\n",
    "}\n",
    "\n",
    "df = pd.DataFrame(data)\n",
    "\n",
    "df.head()"
   ]
  },
  {
   "cell_type": "code",
   "execution_count": 9,
   "metadata": {},
   "outputs": [],
   "source": [
    "df.to_csv('public/data/results.csv', index=False, encoding='utf-8')"
   ]
  },
  {
   "cell_type": "code",
   "execution_count": null,
   "metadata": {},
   "outputs": [],
   "source": []
  }
 ],
 "metadata": {
  "kernelspec": {
   "display_name": "pop_gen",
   "language": "python",
   "name": "pop_gen"
  },
  "language_info": {
   "codemirror_mode": {
    "name": "ipython",
    "version": 3
   },
   "file_extension": ".py",
   "mimetype": "text/x-python",
   "name": "python",
   "nbconvert_exporter": "python",
   "pygments_lexer": "ipython3",
   "version": "3.13.1"
  }
 },
 "nbformat": 4,
 "nbformat_minor": 2
}
